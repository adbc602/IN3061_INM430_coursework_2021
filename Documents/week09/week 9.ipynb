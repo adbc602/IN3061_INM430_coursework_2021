{
 "cells": [
  {
   "cell_type": "code",
   "execution_count": 6,
   "id": "f00541d6",
   "metadata": {},
   "outputs": [],
   "source": [
    "import networkx as nx\n",
    "import matplotlib.pyplot as plt\n",
    "from networkx.drawing.nx_agraph import graphviz_layout\n"
   ]
  },
  {
   "cell_type": "code",
   "execution_count": null,
   "id": "637bd6b6",
   "metadata": {},
   "outputs": [],
   "source": [
    "G=nx.Graph()"
   ]
  },
  {
   "cell_type": "code",
   "execution_count": null,
   "id": "6081d2fc",
   "metadata": {},
   "outputs": [],
   "source": [
    "G.add_nodes_from([\"A\",\"B\",\"C\",\"D\",\"E\",\"F\",\"G\",\"H\"])\n",
    "G.add_edges_from([('A','B'),('B','C'),('A','C'),('C','D'),('C','E'),('D','F'),('F','G'),('F','H')])"
   ]
  },
  {
   "cell_type": "code",
   "execution_count": 3,
   "id": "352056f7",
   "metadata": {},
   "outputs": [
    {
     "ename": "NameError",
     "evalue": "name 'G' is not defined",
     "output_type": "error",
     "traceback": [
      "\u001b[0;31m---------------------------------------------------------------------------\u001b[0m",
      "\u001b[0;31mNameError\u001b[0m                                 Traceback (most recent call last)",
      "\u001b[0;32m<ipython-input-3-c2c1f6b400af>\u001b[0m in \u001b[0;36m<module>\u001b[0;34m\u001b[0m\n\u001b[0;32m----> 1\u001b[0;31m \u001b[0mprint\u001b[0m\u001b[0;34m(\u001b[0m\u001b[0mG\u001b[0m\u001b[0;34m.\u001b[0m\u001b[0mnodes\u001b[0m\u001b[0;34m(\u001b[0m\u001b[0;34m)\u001b[0m\u001b[0;34m)\u001b[0m\u001b[0;34m\u001b[0m\u001b[0;34m\u001b[0m\u001b[0m\n\u001b[0m",
      "\u001b[0;31mNameError\u001b[0m: name 'G' is not defined"
     ]
    }
   ],
   "source": [
    "print(G.nodes())"
   ]
  },
  {
   "cell_type": "code",
   "execution_count": null,
   "id": "fcb6e059",
   "metadata": {},
   "outputs": [],
   "source": [
    "positions=nx.spring_layout(G)"
   ]
  },
  {
   "cell_type": "code",
   "execution_count": null,
   "id": "a75134e8",
   "metadata": {},
   "outputs": [],
   "source": [
    "nx.draw(G,pos=positions)\n",
    "nx.draw_networkx_labels(G,pos=positions)\n",
    "plt.draw()"
   ]
  },
  {
   "cell_type": "code",
   "execution_count": null,
   "id": "9ebff701",
   "metadata": {},
   "outputs": [],
   "source": []
  },
  {
   "cell_type": "code",
   "execution_count": null,
   "id": "263465d3",
   "metadata": {},
   "outputs": [],
   "source": [
    "def degree_centrality(G, nodes):\n",
    "    top = set(nodes)\n",
    "    bottom = set(G) - top\n",
    "    s = 1.0/len(bottom)\n",
    "    centrality = dict((n,d*s) for n,d in G.degree_iter(top))\n",
    "    s = 1.0/len(top)\n",
    "    centrality.update(dict((n,d*s) for n,d in G.degree_iter(bottom)))\n",
    "    return centrality"
   ]
  },
  {
   "cell_type": "code",
   "execution_count": null,
   "id": "cac04d20",
   "metadata": {},
   "outputs": [],
   "source": [
    "import networkx as nx\n",
    "G=nx.erdos_renyi_graph(8,0.5)\n",
    "d=nx.degree_centrality(G)\n",
    "print(d)"
   ]
  },
  {
   "cell_type": "code",
   "execution_count": null,
   "id": "ddf40224",
   "metadata": {},
   "outputs": [],
   "source": []
  },
  {
   "cell_type": "code",
   "execution_count": null,
   "id": "3546739e",
   "metadata": {},
   "outputs": [],
   "source": [
    "coauthorshipG=nx.read_graphml(\"netscience.graphml\")"
   ]
  },
  {
   "cell_type": "code",
   "execution_count": null,
   "id": "8a77c21b",
   "metadata": {},
   "outputs": [],
   "source": [
    "a= [len(c) for c in sorted(nx.connected_components(coauthorshipG), key=len, reverse=True)]\n",
    "len(a)"
   ]
  },
  {
   "cell_type": "code",
   "execution_count": null,
   "id": "46806dac",
   "metadata": {},
   "outputs": [],
   "source": []
  },
  {
   "cell_type": "code",
   "execution_count": null,
   "id": "ef45a2e0",
   "metadata": {},
   "outputs": [],
   "source": [
    "Gc = max(nx.connected_component_subgraphs(coauthorshipG), key=len)"
   ]
  },
  {
   "cell_type": "code",
   "execution_count": null,
   "id": "8e9129ba",
   "metadata": {},
   "outputs": [],
   "source": [
    "from networkx.algorithms.components import number_connected_components\n",
    "\n",
    "nx.number_connected_components(Gc)"
   ]
  },
  {
   "cell_type": "code",
   "execution_count": null,
   "id": "82ac6903",
   "metadata": {},
   "outputs": [],
   "source": []
  },
  {
   "cell_type": "code",
   "execution_count": null,
   "id": "b11e460d",
   "metadata": {},
   "outputs": [],
   "source": [
    "pos = nx.spring_layout(coauthorshipG)  #setting the positions with respect to G, not k.\n",
    "nx.draw_networkx_labels(coauthorshipG,pos=pos)\n",
    "\n",
    "plt.figure()"
   ]
  },
  {
   "cell_type": "code",
   "execution_count": null,
   "id": "abab50c4",
   "metadata": {},
   "outputs": [],
   "source": [
    "<Figure size 432x288 with 0 Axes>\n",
    "\n",
    "<Figure size 432x288 with 0 Axes>\n"
   ]
  },
  {
   "cell_type": "code",
   "execution_count": null,
   "id": "1d3a863e",
   "metadata": {},
   "outputs": [],
   "source": [
    "def betweenness_centrality(G, k=None, normalized=True, weight=None,\n",
    "                           endpoints=False, seed=None):\n",
    "    betweenness = dict.fromkeys(G, 0.0)  # b[v]=0 for v in G\n",
    "    if k is None:\n",
    "        nodes = G\n",
    "    else:\n",
    "        random.seed(seed)\n",
    "        nodes = random.sample(G.nodes(), k)\n",
    "    for s in nodes:\n",
    "        # single source shortest paths\n",
    "        if weight is None:  # use BFS\n",
    "            S, P, sigma = _single_source_shortest_path_basic(G, s)\n",
    "        else:  # use Dijkstra's algorithm\n",
    "            S, P, sigma = _single_source_dijkstra_path_basic(G, s, weight)\n",
    "        # accumulation\n",
    "        if endpoints:\n",
    "            betweenness = _accumulate_endpoints(betweenness, S, P, sigma, s)\n",
    "        else:\n",
    "            betweenness = _accumulate_basic(betweenness, S, P, sigma, s)\n",
    "    # rescaling\n",
    "    betweenness = _rescale(betweenness, len(G), normalized=normalized,\n",
    "                           directed=G.is_directed(), k=k)\n",
    "    return betweenness"
   ]
  },
  {
   "cell_type": "code",
   "execution_count": null,
   "id": "5d4d079f",
   "metadata": {},
   "outputs": [],
   "source": [
    "import networkx as nx\n",
    "G=nx.erdos_renyi_graph(8,0.5)\n",
    "b=nx.betweenness_centrality(G)\n",
    "print(b)"
   ]
  },
  {
   "cell_type": "code",
   "execution_count": null,
   "id": "656d13c3",
   "metadata": {},
   "outputs": [],
   "source": []
  },
  {
   "cell_type": "code",
   "execution_count": null,
   "id": "bd243cc5",
   "metadata": {},
   "outputs": [],
   "source": [
    "import networkx as nx\n",
    "\n",
    "graph = nx.Graph()\n",
    "graph.add_weighted_edges_from([(1,2,1), (2,3,2), (1,3,1)])\n",
    "print(nx.betweenness_centrality(graph))\n",
    "# {1: 0.0, 2: 0.0, 3: 0.0}\n",
    "print(nx.betweenness_centrality(graph, weight=\"weight\"))\n",
    "# {1: 0.5, 2: 0.0, 3: 0.0}"
   ]
  },
  {
   "cell_type": "code",
   "execution_count": null,
   "id": "0349e3ca",
   "metadata": {},
   "outputs": [],
   "source": []
  },
  {
   "cell_type": "code",
   "execution_count": null,
   "id": "0d05ace3",
   "metadata": {},
   "outputs": [],
   "source": [
    "coauthorshipG=nx.read_graphml(\"lesMiserables.graphml\")"
   ]
  },
  {
   "cell_type": "code",
   "execution_count": null,
   "id": "96e343e5",
   "metadata": {},
   "outputs": [],
   "source": [
    "G = nx.path_graph(8)\n",
    "nx.add_path(G, coauthorshipG)\n",
    "[len(c) for c in sorted(nx.connected_components(coauthorshipG), key=len, reverse=True)]\n"
   ]
  },
  {
   "cell_type": "code",
   "execution_count": null,
   "id": "1469df83",
   "metadata": {},
   "outputs": [],
   "source": [
    "Gc = max(nx.connected_components(coauthorshipG), key=len)\n",
    "len(list(Gc))"
   ]
  },
  {
   "cell_type": "code",
   "execution_count": null,
   "id": "46930801",
   "metadata": {},
   "outputs": [],
   "source": [
    "def connected_component_subgraphs(G):\n",
    "    for c in nx.connected_components(G):\n",
    "        yield G.subgraph(c)"
   ]
  },
  {
   "cell_type": "code",
   "execution_count": null,
   "id": "95720fd2",
   "metadata": {},
   "outputs": [],
   "source": [
    "connected_component_subgraphs(coauthorshipG)"
   ]
  },
  {
   "cell_type": "code",
   "execution_count": null,
   "id": "2615ab5d",
   "metadata": {},
   "outputs": [],
   "source": [
    "import numpy as np"
   ]
  },
  {
   "cell_type": "code",
   "execution_count": null,
   "id": "e961ed9a",
   "metadata": {},
   "outputs": [],
   "source": [
    "# def calc_BC(protein_graph, prefix, generate_plots=True):\n",
    "#     bc = nx.betweenness_centrality(protein_graph, normalized=False)\n",
    "#     bc = np.asarray(list(bc.values()))\n",
    "\n",
    "#     num_nodes = len(protein_graph.nodes())\n",
    "#     nodes_axis = range(1, num_nodes + 1)\n",
    "\n",
    "#     if generate_plots:\n",
    "#         plt.plot(nodes_axis, bc)\n",
    "#         plt.title(\"%s BC\" % prefix, fontsize=18)\n",
    "#         plt.xlabel('Node Indices', fontsize=16)\n",
    "#         plt.ylabel('BC', fontsize=16)\n",
    "#         plt.savefig(\"%s_BC.png\" % prefix, dpi=300, bbox_inches='tight')\n",
    "#         plt.close()\n",
    "#         bc = bc.reshape(1, num_nodes)\n",
    "#         np.savetxt(\"%s_bc.dat\" % prefix, bc)\n",
    "\n",
    "#     return bc"
   ]
  },
  {
   "cell_type": "code",
   "execution_count": null,
   "id": "a6a93683",
   "metadata": {},
   "outputs": [],
   "source": [
    "# calc_BC(coauthorshipG,77)"
   ]
  },
  {
   "cell_type": "code",
   "execution_count": null,
   "id": "9070b208",
   "metadata": {},
   "outputs": [],
   "source": [
    "def betweenness_centrality(G, nodes):\n",
    "    top = set(nodes)\n",
    "    bottom = set(G) - top\n",
    "    n = float(len(top))\n",
    "    m = float(len(bottom))\n",
    "    s = (n-1) // m\n",
    "    t = (n-1) % m\n",
    "    bet_max_top = (((m**2)*((s+1)**2))+\n",
    "                   (m*(s+1)*(2*t-s-1))-\n",
    "                   (t*((2*s)-t+3)))/2.0\n",
    "    p = (m-1) // n\n",
    "    r = (m-1) % n\n",
    "    bet_max_bot = (((n**2)*((p+1)**2))+\n",
    "                   (n*(p+1)*(2*r-p-1))-\n",
    "                   (r*((2*p)-r+3)))/2.0\n",
    "    betweenness = nx.betweenness_centrality(G, normalized=False, \n",
    "                                            weight=None)\n",
    "    for node in top:\n",
    "        betweenness[node]/=bet_max_top\n",
    "    for node in bottom:\n",
    "        betweenness[node]/=bet_max_bot\n",
    "    return betweenness"
   ]
  },
  {
   "cell_type": "code",
   "execution_count": null,
   "id": "2cc97b6b",
   "metadata": {},
   "outputs": [],
   "source": [
    "betweenness_centrality(G,coauthorshipG)"
   ]
  },
  {
   "cell_type": "code",
   "execution_count": null,
   "id": "9eb95062",
   "metadata": {},
   "outputs": [],
   "source": []
  },
  {
   "cell_type": "code",
   "execution_count": null,
   "id": "a7acff1c",
   "metadata": {},
   "outputs": [],
   "source": []
  },
  {
   "cell_type": "code",
   "execution_count": null,
   "id": "d1aa8f78",
   "metadata": {},
   "outputs": [],
   "source": [
    "def get_clustering_hist(graph):\n",
    "    r\"\"\"\n",
    "    Compute histogram of clustering coefficient for a graph.\n",
    "    Not used in our experiments.\n",
    "    \n",
    "    :param graph: graph representation in networkx format: nx.from_numpy_matrix(A)\n",
    "    :return: histogram of clustering coefficients\n",
    "    \"\"\"\n",
    "    clustering_coeffs_list = list(nx.clustering(graph).values())\n",
    "    hist_c, _ = np.histogram(clustering_coeffs_list, bins=100, range=(0.0, 1.0), density=False)\n",
    "    return hist_c "
   ]
  },
  {
   "cell_type": "code",
   "execution_count": null,
   "id": "c1e2944b",
   "metadata": {},
   "outputs": [],
   "source": [
    "get_clustering_hist(coauthorshipG)"
   ]
  },
  {
   "cell_type": "markdown",
   "id": "f195b148",
   "metadata": {},
   "source": [
    "# DIY Exercises - 2"
   ]
  },
  {
   "cell_type": "code",
   "execution_count": null,
   "id": "0120a0be",
   "metadata": {},
   "outputs": [],
   "source": [
    "from urllib.request import urlopen\n",
    "targert_url10 = 'http://www.gutenberg.org/files/135/135-0.txt'\n",
    "raw_book = urlopen(targert_url10).read().decode('utf-8')"
   ]
  },
  {
   "cell_type": "code",
   "execution_count": null,
   "id": "11229de1",
   "metadata": {},
   "outputs": [],
   "source": [
    "len(raw_book)"
   ]
  },
  {
   "cell_type": "code",
   "execution_count": null,
   "id": "38db88f1",
   "metadata": {},
   "outputs": [],
   "source": [
    "from nltk.corpus import stopwords\n",
    "from nltk.tokenize import word_tokenize\n",
    "stop_words = (stopwords.words('english'))\n",
    "len(stop_words)"
   ]
  },
  {
   "cell_type": "code",
   "execution_count": null,
   "id": "cb641e5e",
   "metadata": {},
   "outputs": [],
   "source": [
    "stop_words[1:10]"
   ]
  },
  {
   "cell_type": "code",
   "execution_count": null,
   "id": "409ad0a0",
   "metadata": {},
   "outputs": [],
   "source": []
  },
  {
   "cell_type": "code",
   "execution_count": null,
   "id": "13747de1",
   "metadata": {},
   "outputs": [],
   "source": [
    "extra_words = ['A','All','and','And','But','come','could','day','even','He',\n",
    "              'he','it','It','If','I','In','like','man','made','men','must','Man',\n",
    "              'One','one','She','see','said','say','Say','sort','still',\n",
    "              'the','That','To','They','This','The','Then','There','would','two','What','You','-',\n",
    "              '_','-','***']\n",
    "extra_words[1:5]"
   ]
  },
  {
   "cell_type": "code",
   "execution_count": null,
   "id": "8a97983b",
   "metadata": {},
   "outputs": [],
   "source": []
  },
  {
   "cell_type": "code",
   "execution_count": null,
   "id": "d6802bc5",
   "metadata": {},
   "outputs": [],
   "source": [
    "word_tokens = word_tokenize(raw_book)\n",
    "len(word_tokens)"
   ]
  },
  {
   "cell_type": "code",
   "execution_count": null,
   "id": "35027143",
   "metadata": {},
   "outputs": [],
   "source": [
    "filtered_book = [w for w in word_tokens if not w in stop_words]\n",
    "filtered_book2 = [w for w in filtered_book if not w in extra_words]"
   ]
  },
  {
   "cell_type": "code",
   "execution_count": null,
   "id": "6274f29b",
   "metadata": {},
   "outputs": [],
   "source": [
    "punctuations = '''!()-,[]{};:'\"\"'\\,-,,<>./?@#$%^&*'''\n",
    "filtered_book3 = [w for w in filtered_book2 if not w in punctuations]"
   ]
  },
  {
   "cell_type": "code",
   "execution_count": null,
   "id": "3ce57f77",
   "metadata": {},
   "outputs": [],
   "source": [
    "len(filtered_book)\n",
    "len(filtered_book2)\n",
    "len(filtered_book3)"
   ]
  },
  {
   "cell_type": "code",
   "execution_count": null,
   "id": "28970cec",
   "metadata": {},
   "outputs": [],
   "source": []
  },
  {
   "cell_type": "code",
   "execution_count": null,
   "id": "e33d1c41",
   "metadata": {},
   "outputs": [],
   "source": [
    "text_start = filtered_book3.index('HAUTEVILLE')\n",
    "filtered_book4 = filtered_book3[text_start:]"
   ]
  },
  {
   "cell_type": "code",
   "execution_count": null,
   "id": "e7d2b68f",
   "metadata": {},
   "outputs": [],
   "source": [
    "len(filtered_book4)"
   ]
  },
  {
   "cell_type": "code",
   "execution_count": null,
   "id": "6217dfaa",
   "metadata": {},
   "outputs": [],
   "source": [
    "numTokens = len(filtered_book4)\n",
    "numTokens"
   ]
  },
  {
   "cell_type": "code",
   "execution_count": null,
   "id": "25d50f65",
   "metadata": {},
   "outputs": [],
   "source": [
    "filtered_book4[10:20]"
   ]
  },
  {
   "cell_type": "code",
   "execution_count": null,
   "id": "80a05cf6",
   "metadata": {},
   "outputs": [],
   "source": [
    "character_list = ['Myriel','Bapistine','Magloire','Cravatte','Valjean','Gervais',\n",
    "                 'Fantine','Tholomye','Blachevelle','Dahlia','Fameuil','Favourite','Listolier',\n",
    "                 'Zephine','Cosette','Thèn','Eponine','Azelma','javverta','Fauchelevent','Bamatabois','Champmathieu',\n",
    "                 'Brevet','Simplice','Chenildieu','Cochepaille','Innocente','Gavroche','Magonon','Gillenormand',\n",
    "                 'Marius','Georges','Mabeuf','Enjolras','Combeferre','Prouvaire','Feuilly','Courfeyrac','Bahorel','Lesgle','Joly','Grantaire','Patron-Minette',\n",
    "                  'Brujo','Toussaint'\n",
    "        ]"
   ]
  },
  {
   "cell_type": "code",
   "execution_count": null,
   "id": "39bd2daf",
   "metadata": {},
   "outputs": [],
   "source": [
    "numCharacters=len(character_list)\n",
    "numCharacters"
   ]
  },
  {
   "cell_type": "code",
   "execution_count": null,
   "id": "8dfdfb42",
   "metadata": {},
   "outputs": [],
   "source": [
    "import numpy as np\n",
    "interactions_characters = np.zeros((numCharacters,numCharacters))\n",
    "for i in range(numCharacters-1):\n",
    "    for j in range(i+1,numCharacters):\n",
    "        for loc_i in range(numOccurrences[i]):\n",
    "            for loc_j in range(numOccurrences[j]):\n",
    "                dist = abs(positions_characters[i][loc_i]-positions_characters[j][loc_j])\n",
    "                if(dist<500):\n",
    "                    interactions_characters[i,j] = interactions_Characters[i,j]+1\n",
    "                    interactions_characters[j,i] = interactions_Characters[j,i]+1"
   ]
  },
  {
   "cell_type": "code",
   "execution_count": null,
   "id": "4741643c",
   "metadata": {},
   "outputs": [],
   "source": [
    "G1=nx.from_numpy_matrix(interactions_characters)"
   ]
  },
  {
   "cell_type": "code",
   "execution_count": null,
   "id": "f7480d17",
   "metadata": {},
   "outputs": [],
   "source": [
    "nx.draw_networkx(G)"
   ]
  },
  {
   "cell_type": "code",
   "execution_count": null,
   "id": "879a72c3",
   "metadata": {},
   "outputs": [],
   "source": []
  },
  {
   "cell_type": "markdown",
   "id": "876f5391",
   "metadata": {},
   "source": [
    "Optional Extra 2 : Parsing XML files"
   ]
  },
  {
   "cell_type": "code",
   "execution_count": null,
   "id": "0ea14eba",
   "metadata": {},
   "outputs": [],
   "source": [
    "import os\n",
    "import urllib.request\n",
    "import xml.etree.ElementTree as ET"
   ]
  },
  {
   "cell_type": "code",
   "execution_count": null,
   "id": "c96a1d51",
   "metadata": {},
   "outputs": [],
   "source": [
    "feed = urllib.request.urlopen(\"http://feeds.bbci.co.uk/news/world/rss.xml?edition=uk\")"
   ]
  },
  {
   "cell_type": "code",
   "execution_count": null,
   "id": "948a65fe",
   "metadata": {},
   "outputs": [],
   "source": [
    "tree = ET.parse(feed)\n",
    "root = tree.getroot()"
   ]
  },
  {
   "cell_type": "code",
   "execution_count": null,
   "id": "2324c8c2",
   "metadata": {},
   "outputs": [],
   "source": [
    "print (\"Root node is: \", root.tag, \" with attributes: \", root.attrib)\n"
   ]
  },
  {
   "cell_type": "code",
   "execution_count": null,
   "id": "8fe5faa6",
   "metadata": {},
   "outputs": [],
   "source": []
  },
  {
   "cell_type": "code",
   "execution_count": null,
   "id": "0b2e1d69",
   "metadata": {},
   "outputs": [],
   "source": [
    "list(root[0].getchildren())"
   ]
  },
  {
   "cell_type": "code",
   "execution_count": null,
   "id": "c16843ba",
   "metadata": {},
   "outputs": [],
   "source": [
    "channelNode = root[0]"
   ]
  },
  {
   "cell_type": "code",
   "execution_count": null,
   "id": "a9fe7f36",
   "metadata": {},
   "outputs": [],
   "source": [
    "for itemNode in channelNode.iter('item'):\n",
    "    dateText = itemNode.find('pubDate').text\n",
    "    itemText = itemNode.find('title').text\n",
    "    print(\"Date:\" + dateText ,\", \" \"Title:\" +itemText )"
   ]
  },
  {
   "cell_type": "code",
   "execution_count": null,
   "id": "b9cdd393",
   "metadata": {},
   "outputs": [],
   "source": []
  }
 ],
 "metadata": {
  "kernelspec": {
   "display_name": "Python 3",
   "language": "python",
   "name": "python3"
  },
  "language_info": {
   "codemirror_mode": {
    "name": "ipython",
    "version": 3
   },
   "file_extension": ".py",
   "mimetype": "text/x-python",
   "name": "python",
   "nbconvert_exporter": "python",
   "pygments_lexer": "ipython3",
   "version": "3.8.8"
  }
 },
 "nbformat": 4,
 "nbformat_minor": 5
}
