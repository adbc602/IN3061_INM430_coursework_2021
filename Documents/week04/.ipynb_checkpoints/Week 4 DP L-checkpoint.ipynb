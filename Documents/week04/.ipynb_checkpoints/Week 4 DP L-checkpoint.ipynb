{
 "cells": [
  {
   "cell_type": "code",
   "execution_count": 1,
   "id": "3c5aa70b",
   "metadata": {},
   "outputs": [],
   "source": [
    "import pandas as pd\n",
    "import matplotlib.pyplot as plt"
   ]
  },
  {
   "cell_type": "markdown",
   "id": "1b607604",
   "metadata": {},
   "source": [
    "Exercise 1 : Correlation Analysis\n",
    "1. Load the Communities in the US (cleaned version) into a Pandas dataframe¶"
   ]
  },
  {
   "cell_type": "code",
   "execution_count": 3,
   "id": "9ff4a5dd",
   "metadata": {},
   "outputs": [
    {
     "data": {
      "text/html": [
       "<div>\n",
       "<style scoped>\n",
       "    .dataframe tbody tr th:only-of-type {\n",
       "        vertical-align: middle;\n",
       "    }\n",
       "\n",
       "    .dataframe tbody tr th {\n",
       "        vertical-align: top;\n",
       "    }\n",
       "\n",
       "    .dataframe thead th {\n",
       "        text-align: right;\n",
       "    }\n",
       "</style>\n",
       "<table border=\"1\" class=\"dataframe\">\n",
       "  <thead>\n",
       "    <tr style=\"text-align: right;\">\n",
       "      <th></th>\n",
       "      <th>communityname</th>\n",
       "      <th>fold</th>\n",
       "      <th>population</th>\n",
       "      <th>householdsize</th>\n",
       "      <th>racepctblack</th>\n",
       "      <th>racePctWhite</th>\n",
       "      <th>racePctAsian</th>\n",
       "      <th>racePctHisp</th>\n",
       "      <th>agePct12t21</th>\n",
       "      <th>agePct12t29</th>\n",
       "      <th>...</th>\n",
       "      <th>NumStreet</th>\n",
       "      <th>PctForeignBorn</th>\n",
       "      <th>PctBornSameState</th>\n",
       "      <th>PctSameHouse85</th>\n",
       "      <th>PctSameCity85</th>\n",
       "      <th>PctSameState85</th>\n",
       "      <th>LandArea</th>\n",
       "      <th>PopDens</th>\n",
       "      <th>PctUsePubTrans</th>\n",
       "      <th>ViolentCrimesPerPop</th>\n",
       "    </tr>\n",
       "  </thead>\n",
       "  <tbody>\n",
       "    <tr>\n",
       "      <th>0</th>\n",
       "      <td>Lakewoodcity</td>\n",
       "      <td>1</td>\n",
       "      <td>0.19</td>\n",
       "      <td>0.33</td>\n",
       "      <td>0.02</td>\n",
       "      <td>0.90</td>\n",
       "      <td>0.12</td>\n",
       "      <td>0.17</td>\n",
       "      <td>0.34</td>\n",
       "      <td>0.47</td>\n",
       "      <td>...</td>\n",
       "      <td>0.0</td>\n",
       "      <td>0.12</td>\n",
       "      <td>0.42</td>\n",
       "      <td>0.50</td>\n",
       "      <td>0.51</td>\n",
       "      <td>0.64</td>\n",
       "      <td>0.12</td>\n",
       "      <td>0.26</td>\n",
       "      <td>0.20</td>\n",
       "      <td>0.20</td>\n",
       "    </tr>\n",
       "    <tr>\n",
       "      <th>1</th>\n",
       "      <td>Tukwilacity</td>\n",
       "      <td>1</td>\n",
       "      <td>0.00</td>\n",
       "      <td>0.16</td>\n",
       "      <td>0.12</td>\n",
       "      <td>0.74</td>\n",
       "      <td>0.45</td>\n",
       "      <td>0.07</td>\n",
       "      <td>0.26</td>\n",
       "      <td>0.59</td>\n",
       "      <td>...</td>\n",
       "      <td>0.0</td>\n",
       "      <td>0.21</td>\n",
       "      <td>0.50</td>\n",
       "      <td>0.34</td>\n",
       "      <td>0.60</td>\n",
       "      <td>0.52</td>\n",
       "      <td>0.02</td>\n",
       "      <td>0.12</td>\n",
       "      <td>0.45</td>\n",
       "      <td>0.67</td>\n",
       "    </tr>\n",
       "    <tr>\n",
       "      <th>2</th>\n",
       "      <td>Aberdeentown</td>\n",
       "      <td>1</td>\n",
       "      <td>0.00</td>\n",
       "      <td>0.42</td>\n",
       "      <td>0.49</td>\n",
       "      <td>0.56</td>\n",
       "      <td>0.17</td>\n",
       "      <td>0.04</td>\n",
       "      <td>0.39</td>\n",
       "      <td>0.47</td>\n",
       "      <td>...</td>\n",
       "      <td>0.0</td>\n",
       "      <td>0.14</td>\n",
       "      <td>0.49</td>\n",
       "      <td>0.54</td>\n",
       "      <td>0.67</td>\n",
       "      <td>0.56</td>\n",
       "      <td>0.01</td>\n",
       "      <td>0.21</td>\n",
       "      <td>0.02</td>\n",
       "      <td>0.43</td>\n",
       "    </tr>\n",
       "    <tr>\n",
       "      <th>3</th>\n",
       "      <td>Willingborotownship</td>\n",
       "      <td>1</td>\n",
       "      <td>0.04</td>\n",
       "      <td>0.77</td>\n",
       "      <td>1.00</td>\n",
       "      <td>0.08</td>\n",
       "      <td>0.12</td>\n",
       "      <td>0.10</td>\n",
       "      <td>0.51</td>\n",
       "      <td>0.50</td>\n",
       "      <td>...</td>\n",
       "      <td>0.0</td>\n",
       "      <td>0.19</td>\n",
       "      <td>0.30</td>\n",
       "      <td>0.73</td>\n",
       "      <td>0.64</td>\n",
       "      <td>0.65</td>\n",
       "      <td>0.02</td>\n",
       "      <td>0.39</td>\n",
       "      <td>0.28</td>\n",
       "      <td>0.12</td>\n",
       "    </tr>\n",
       "    <tr>\n",
       "      <th>4</th>\n",
       "      <td>Bethlehemtownship</td>\n",
       "      <td>1</td>\n",
       "      <td>0.01</td>\n",
       "      <td>0.55</td>\n",
       "      <td>0.02</td>\n",
       "      <td>0.95</td>\n",
       "      <td>0.09</td>\n",
       "      <td>0.05</td>\n",
       "      <td>0.38</td>\n",
       "      <td>0.38</td>\n",
       "      <td>...</td>\n",
       "      <td>0.0</td>\n",
       "      <td>0.11</td>\n",
       "      <td>0.72</td>\n",
       "      <td>0.64</td>\n",
       "      <td>0.61</td>\n",
       "      <td>0.53</td>\n",
       "      <td>0.04</td>\n",
       "      <td>0.09</td>\n",
       "      <td>0.02</td>\n",
       "      <td>0.03</td>\n",
       "    </tr>\n",
       "  </tbody>\n",
       "</table>\n",
       "<p>5 rows × 102 columns</p>\n",
       "</div>"
      ],
      "text/plain": [
       "         communityname  fold  population  householdsize  racepctblack  \\\n",
       "0         Lakewoodcity     1        0.19           0.33          0.02   \n",
       "1          Tukwilacity     1        0.00           0.16          0.12   \n",
       "2         Aberdeentown     1        0.00           0.42          0.49   \n",
       "3  Willingborotownship     1        0.04           0.77          1.00   \n",
       "4    Bethlehemtownship     1        0.01           0.55          0.02   \n",
       "\n",
       "   racePctWhite  racePctAsian  racePctHisp  agePct12t21  agePct12t29  ...  \\\n",
       "0          0.90          0.12         0.17         0.34         0.47  ...   \n",
       "1          0.74          0.45         0.07         0.26         0.59  ...   \n",
       "2          0.56          0.17         0.04         0.39         0.47  ...   \n",
       "3          0.08          0.12         0.10         0.51         0.50  ...   \n",
       "4          0.95          0.09         0.05         0.38         0.38  ...   \n",
       "\n",
       "   NumStreet  PctForeignBorn  PctBornSameState  PctSameHouse85  PctSameCity85  \\\n",
       "0        0.0            0.12              0.42            0.50           0.51   \n",
       "1        0.0            0.21              0.50            0.34           0.60   \n",
       "2        0.0            0.14              0.49            0.54           0.67   \n",
       "3        0.0            0.19              0.30            0.73           0.64   \n",
       "4        0.0            0.11              0.72            0.64           0.61   \n",
       "\n",
       "   PctSameState85  LandArea  PopDens  PctUsePubTrans  ViolentCrimesPerPop  \n",
       "0            0.64      0.12     0.26            0.20                 0.20  \n",
       "1            0.52      0.02     0.12            0.45                 0.67  \n",
       "2            0.56      0.01     0.21            0.02                 0.43  \n",
       "3            0.65      0.02     0.39            0.28                 0.12  \n",
       "4            0.53      0.04     0.09            0.02                 0.03  \n",
       "\n",
       "[5 rows x 102 columns]"
      ]
     },
     "execution_count": 3,
     "metadata": {},
     "output_type": "execute_result"
    }
   ],
   "source": [
    "df=pd.read_csv(\"censusCrimeClean.csv\")\n",
    "df.head()"
   ]
  },
  {
   "cell_type": "code",
   "execution_count": 4,
   "id": "4e88ecd8",
   "metadata": {},
   "outputs": [
    {
     "data": {
      "text/plain": [
       "(1994, 102)"
      ]
     },
     "execution_count": 4,
     "metadata": {},
     "output_type": "execute_result"
    }
   ],
   "source": [
    "df.shape"
   ]
  },
  {
   "cell_type": "markdown",
   "id": "c587a9f4",
   "metadata": {},
   "source": [
    "2. Choose two columns as save as variables. You can choose any but an interesting pair could be \"medIncome\" and \"ViolentCrimesPerPop\""
   ]
  },
  {
   "cell_type": "code",
   "execution_count": 6,
   "id": "9a21e680",
   "metadata": {},
   "outputs": [],
   "source": [
    "var1= df['medIncome']\n",
    "var2= df[\"ViolentCrimesPerPop\"]"
   ]
  },
  {
   "cell_type": "markdown",
   "id": "f702b95e",
   "metadata": {},
   "source": [
    "3. Perform a Pearson correlation and note the correlation value.¶\n"
   ]
  },
  {
   "cell_type": "code",
   "execution_count": 8,
   "id": "c3f63106",
   "metadata": {},
   "outputs": [],
   "source": [
    "import scipy.stats"
   ]
  },
  {
   "cell_type": "code",
   "execution_count": 9,
   "id": "8bcd58e4",
   "metadata": {},
   "outputs": [
    {
     "name": "stdout",
     "output_type": "stream",
     "text": [
      "Pearson Correlation \n",
      "Med Income and Voilent Crimes Per Pop:  (-0.42422061672612593, 6.334424808048533e-88)\n"
     ]
    }
   ],
   "source": [
    "print(\"Pearson Correlation \\nMed Income and Voilent Crimes Per Pop: \", scipy.stats.pearsonr(var1, var2))\n"
   ]
  },
  {
   "cell_type": "markdown",
   "id": "c1cffe6d",
   "metadata": {},
   "source": [
    "4. Perform a Spearman correlation computation and note the correlation value"
   ]
  },
  {
   "cell_type": "code",
   "execution_count": 11,
   "id": "79ae54ca",
   "metadata": {},
   "outputs": [
    {
     "name": "stdout",
     "output_type": "stream",
     "text": [
      "Sperman Correlation \n",
      "Med Income and Voilent Crimes Per Pop:  SpearmanrResult(correlation=-0.482169950997556, pvalue=1.2978853095169542e-116)\n"
     ]
    }
   ],
   "source": [
    "print(\"Sperman Correlation \\nMed Income and Voilent Crimes Per Pop: \", scipy.stats.spearmanr(var1, var2))"
   ]
  },
  {
   "cell_type": "markdown",
   "id": "d433d0c5",
   "metadata": {},
   "source": [
    "5. Comment on the differences / similarities in relation to a scatterplot visualisation of the two columns¶\n"
   ]
  },
  {
   "cell_type": "code",
   "execution_count": 13,
   "id": "35868f10",
   "metadata": {},
   "outputs": [
    {
     "data": {
      "image/png": "[encoded data removed]",
      "text/plain": [
       "<Figure size 432x288 with 1 Axes>"
      ]
     },
     "metadata": {
      "needs_background": "light"
     },
     "output_type": "display_data"
    }
   ],
   "source": [
    "plt.scatter(x=var1, y=var2)\n",
    "plt.xlabel(\"medIncome\")\n",
    "plt.ylabel(\"ViolentCrimesPerPop\")\n",
    "plt.title(\"Scatter Plot MedIncome Vs Voilent Crimes per Pop\")\n",
    "plt.show()"
   ]
  },
  {
   "cell_type": "markdown",
   "id": "3d04593d",
   "metadata": {},
   "source": [
    "As from the scatter plot, we can see that medincome and voilent crime per pop has a negative coreelation, as increasing the medincome can cause the decrease in the crime per pop"
   ]
  },
  {
   "cell_type": "markdown",
   "id": "1e9d97f8",
   "metadata": {},
   "source": [
    "6. Have a go at comparing other columns to crimes. You might want to select some columns and calculate correlation coefficients and draw scatterplots in a loop"
   ]
  },
  {
   "cell_type": "code",
   "execution_count": 14,
   "id": "d4de67b8",
   "metadata": {},
   "outputs": [],
   "source": [
    "x1=df['householdsize']\n",
    "x2=df['population']\n",
    "x3= df['LandArea']\n",
    "\n",
    "y= df[\"ViolentCrimesPerPop\"]"
   ]
  },
  {
   "cell_type": "code",
   "execution_count": 15,
   "id": "992fa9ba",
   "metadata": {},
   "outputs": [
    {
     "name": "stdout",
     "output_type": "stream",
     "text": [
      "Pearson Correlation \n",
      "House Hold Size and Voilent Crimes Per Pop:  (-0.03492259533593247, 0.11901078469769048)\n",
      "\n",
      "\n",
      "Sperman Correlation \n",
      "House Hold Size and Voilent Crimes Per Pop:  SpearmanrResult(correlation=-0.11506244680762999, pvalue=2.578304769713152e-07)\n"
     ]
    }
   ],
   "source": [
    "print(\"Pearson Correlation \\nHouse Hold Size and Voilent Crimes Per Pop: \", scipy.stats.pearsonr(x1, y))\n",
    "print(\"\\n\")\n",
    "print(\"Sperman Correlation \\nHouse Hold Size and Voilent Crimes Per Pop: \", scipy.stats.spearmanr(x1, y))"
   ]
  },
  {
   "cell_type": "code",
   "execution_count": 16,
   "id": "19fed831",
   "metadata": {},
   "outputs": [
    {
     "name": "stdout",
     "output_type": "stream",
     "text": [
      "Pearson Correlation \n",
      "population and Voilent Crimes Per Pop:  (0.36715737827352585, 1.1266176363056112e-64)\n",
      "\n",
      "\n",
      "Sperman Correlation \n",
      "population and Voilent Crimes Per Pop:  SpearmanrResult(correlation=0.37235112478768917, pvalue=1.3219497859914124e-66)\n"
     ]
    }
   ],
   "source": [
    "print(\"Pearson Correlation \\npopulation and Voilent Crimes Per Pop: \", scipy.stats.pearsonr(x2, y))\n",
    "print(\"\\n\")\n",
    "print(\"Sperman Correlation \\npopulation and Voilent Crimes Per Pop: \", scipy.stats.spearmanr(x2, y))"
   ]
  },
  {
   "cell_type": "code",
   "execution_count": 17,
   "id": "bf41308a",
   "metadata": {},
   "outputs": [
    {
     "name": "stdout",
     "output_type": "stream",
     "text": [
      "Pearson Correlation \n",
      "LandArea and Voilent Crimes Per Pop:  (0.1967998911542848, 7.360161084030993e-19)\n",
      "\n",
      "\n",
      "Sperman Correlation \n",
      "LandArea and Voilent Crimes Per Pop:  SpearmanrResult(correlation=0.37235112478768917, pvalue=1.3219497859914124e-66)\n"
     ]
    }
   ],
   "source": [
    "print(\"Pearson Correlation \\nLandArea and Voilent Crimes Per Pop: \", scipy.stats.pearsonr(x3, y))\n",
    "print(\"\\n\")\n",
    "print(\"Sperman Correlation \\nLandArea and Voilent Crimes Per Pop: \", scipy.stats.spearmanr(x2, y))"
   ]
  },
  {
   "cell_type": "code",
   "execution_count": 18,
   "id": "c743e570",
   "metadata": {},
   "outputs": [
    {
     "data": {
      "image/png": "[encoded data removed]",
      "text/plain": [
       "<Figure size 432x288 with 1 Axes>"
      ]
     },
     "metadata": {
      "needs_background": "light"
     },
     "output_type": "display_data"
    },
    {
     "data": {
      "image/png": "[encoded data removed]",
      "text/plain": [
       "<Figure size 432x288 with 1 Axes>"
      ]
     },
     "metadata": {
      "needs_background": "light"
     },
     "output_type": "display_data"
    },
    {
     "data": {
      "image/png": "[encoded data removed]",
      "text/plain": [
       "<Figure size 432x288 with 1 Axes>"
      ]
     },
     "metadata": {
      "needs_background": "light"
     },
     "output_type": "display_data"
    }
   ],
   "source": [
    "a=[x1,x2,x3]\n",
    "label=['House Hold Size','Popuation','LandArea']\n",
    "for i in range(len(a)):\n",
    "    plt.scatter(x=a[i], y=y)\n",
    "    plt.xlabel(label[i])\n",
    "    plt.title(\"Scatter Plot \" +label[i] + \" Vs Voilent Crimes per Pop\")\n",
    "    plt.ylabel(\"Voilent Crimes\")\n",
    "    plt.show()"
   ]
  },
  {
   "cell_type": "markdown",
   "id": "1fc90e1e",
   "metadata": {},
   "source": [
    "Exercise 2: Significance testing\n",
    "1. Load the data into a pandas dataframe and create additional columns. Create genderand hasHeartDisease columns with the correct values (as above) to make it easier toread"
   ]
  },
  {
   "cell_type": "code",
   "execution_count": 19,
   "id": "373102f9",
   "metadata": {},
   "outputs": [
    {
     "data": {
      "text/html": [
       "<div>\n",
       "<style scoped>\n",
       "    .dataframe tbody tr th:only-of-type {\n",
       "        vertical-align: middle;\n",
       "    }\n",
       "\n",
       "    .dataframe tbody tr th {\n",
       "        vertical-align: top;\n",
       "    }\n",
       "\n",
       "    .dataframe thead th {\n",
       "        text-align: right;\n",
       "    }\n",
       "</style>\n",
       "<table border=\"1\" class=\"dataframe\">\n",
       "  <thead>\n",
       "    <tr style=\"text-align: right;\">\n",
       "      <th></th>\n",
       "      <th>age</th>\n",
       "      <th>sex</th>\n",
       "      <th>cp</th>\n",
       "      <th>trestbps</th>\n",
       "      <th>chol</th>\n",
       "      <th>fbs</th>\n",
       "      <th>restecg</th>\n",
       "      <th>thalach</th>\n",
       "      <th>exang</th>\n",
       "      <th>oldpeak</th>\n",
       "      <th>slope</th>\n",
       "      <th>ca</th>\n",
       "      <th>thal</th>\n",
       "      <th>target</th>\n",
       "    </tr>\n",
       "  </thead>\n",
       "  <tbody>\n",
       "    <tr>\n",
       "      <th>0</th>\n",
       "      <td>63</td>\n",
       "      <td>1</td>\n",
       "      <td>3</td>\n",
       "      <td>145</td>\n",
       "      <td>233</td>\n",
       "      <td>1</td>\n",
       "      <td>0</td>\n",
       "      <td>150</td>\n",
       "      <td>0</td>\n",
       "      <td>2.3</td>\n",
       "      <td>0</td>\n",
       "      <td>0</td>\n",
       "      <td>1</td>\n",
       "      <td>1</td>\n",
       "    </tr>\n",
       "    <tr>\n",
       "      <th>1</th>\n",
       "      <td>37</td>\n",
       "      <td>1</td>\n",
       "      <td>2</td>\n",
       "      <td>130</td>\n",
       "      <td>250</td>\n",
       "      <td>0</td>\n",
       "      <td>1</td>\n",
       "      <td>187</td>\n",
       "      <td>0</td>\n",
       "      <td>3.5</td>\n",
       "      <td>0</td>\n",
       "      <td>0</td>\n",
       "      <td>2</td>\n",
       "      <td>1</td>\n",
       "    </tr>\n",
       "    <tr>\n",
       "      <th>2</th>\n",
       "      <td>41</td>\n",
       "      <td>0</td>\n",
       "      <td>1</td>\n",
       "      <td>130</td>\n",
       "      <td>204</td>\n",
       "      <td>0</td>\n",
       "      <td>0</td>\n",
       "      <td>172</td>\n",
       "      <td>0</td>\n",
       "      <td>1.4</td>\n",
       "      <td>2</td>\n",
       "      <td>0</td>\n",
       "      <td>2</td>\n",
       "      <td>1</td>\n",
       "    </tr>\n",
       "    <tr>\n",
       "      <th>3</th>\n",
       "      <td>56</td>\n",
       "      <td>1</td>\n",
       "      <td>1</td>\n",
       "      <td>120</td>\n",
       "      <td>236</td>\n",
       "      <td>0</td>\n",
       "      <td>1</td>\n",
       "      <td>178</td>\n",
       "      <td>0</td>\n",
       "      <td>0.8</td>\n",
       "      <td>2</td>\n",
       "      <td>0</td>\n",
       "      <td>2</td>\n",
       "      <td>1</td>\n",
       "    </tr>\n",
       "    <tr>\n",
       "      <th>4</th>\n",
       "      <td>57</td>\n",
       "      <td>0</td>\n",
       "      <td>0</td>\n",
       "      <td>120</td>\n",
       "      <td>354</td>\n",
       "      <td>0</td>\n",
       "      <td>1</td>\n",
       "      <td>163</td>\n",
       "      <td>1</td>\n",
       "      <td>0.6</td>\n",
       "      <td>2</td>\n",
       "      <td>0</td>\n",
       "      <td>2</td>\n",
       "      <td>1</td>\n",
       "    </tr>\n",
       "  </tbody>\n",
       "</table>\n",
       "</div>"
      ],
      "text/plain": [
       "   age  sex  cp  trestbps  chol  fbs  restecg  thalach  exang  oldpeak  slope  \\\n",
       "0   63    1   3       145   233    1        0      150      0      2.3      0   \n",
       "1   37    1   2       130   250    0        1      187      0      3.5      0   \n",
       "2   41    0   1       130   204    0        0      172      0      1.4      2   \n",
       "3   56    1   1       120   236    0        1      178      0      0.8      2   \n",
       "4   57    0   0       120   354    0        1      163      1      0.6      2   \n",
       "\n",
       "   ca  thal  target  \n",
       "0   0     1       1  \n",
       "1   0     2       1  \n",
       "2   0     2       1  \n",
       "3   0     2       1  \n",
       "4   0     2       1  "
      ]
     },
     "execution_count": 19,
     "metadata": {},
     "output_type": "execute_result"
    }
   ],
   "source": [
    "df= pd.read_csv(\"heart.csv\")\n",
    "df.head()"
   ]
  },
  {
   "cell_type": "code",
   "execution_count": 20,
   "id": "080f4aab",
   "metadata": {},
   "outputs": [],
   "source": [
    "df['sex']= df['sex'].astype(str)\n",
    "df['target']= df['target'].astype(str)\n",
    "df['sex'] = df['sex'].replace([\"0\",\"1\"],[\"Female\",\"Male\"])\n",
    "df['target'] = df['target'].replace([\"0\",\"1\"],[\"Heart Disease\",\"Normal\"])"
   ]
  },
  {
   "cell_type": "code",
   "execution_count": 21,
   "id": "a775f349",
   "metadata": {},
   "outputs": [
    {
     "data": {
      "text/html": [
       "<div>\n",
       "<style scoped>\n",
       "    .dataframe tbody tr th:only-of-type {\n",
       "        vertical-align: middle;\n",
       "    }\n",
       "\n",
       "    .dataframe tbody tr th {\n",
       "        vertical-align: top;\n",
       "    }\n",
       "\n",
       "    .dataframe thead th {\n",
       "        text-align: right;\n",
       "    }\n",
       "</style>\n",
       "<table border=\"1\" class=\"dataframe\">\n",
       "  <thead>\n",
       "    <tr style=\"text-align: right;\">\n",
       "      <th></th>\n",
       "      <th>age</th>\n",
       "      <th>sex</th>\n",
       "      <th>cp</th>\n",
       "      <th>trestbps</th>\n",
       "      <th>chol</th>\n",
       "      <th>fbs</th>\n",
       "      <th>restecg</th>\n",
       "      <th>thalach</th>\n",
       "      <th>exang</th>\n",
       "      <th>oldpeak</th>\n",
       "      <th>slope</th>\n",
       "      <th>ca</th>\n",
       "      <th>thal</th>\n",
       "      <th>target</th>\n",
       "    </tr>\n",
       "  </thead>\n",
       "  <tbody>\n",
       "    <tr>\n",
       "      <th>0</th>\n",
       "      <td>63</td>\n",
       "      <td>Male</td>\n",
       "      <td>3</td>\n",
       "      <td>145</td>\n",
       "      <td>233</td>\n",
       "      <td>1</td>\n",
       "      <td>0</td>\n",
       "      <td>150</td>\n",
       "      <td>0</td>\n",
       "      <td>2.3</td>\n",
       "      <td>0</td>\n",
       "      <td>0</td>\n",
       "      <td>1</td>\n",
       "      <td>Normal</td>\n",
       "    </tr>\n",
       "    <tr>\n",
       "      <th>1</th>\n",
       "      <td>37</td>\n",
       "      <td>Male</td>\n",
       "      <td>2</td>\n",
       "      <td>130</td>\n",
       "      <td>250</td>\n",
       "      <td>0</td>\n",
       "      <td>1</td>\n",
       "      <td>187</td>\n",
       "      <td>0</td>\n",
       "      <td>3.5</td>\n",
       "      <td>0</td>\n",
       "      <td>0</td>\n",
       "      <td>2</td>\n",
       "      <td>Normal</td>\n",
       "    </tr>\n",
       "    <tr>\n",
       "      <th>2</th>\n",
       "      <td>41</td>\n",
       "      <td>Female</td>\n",
       "      <td>1</td>\n",
       "      <td>130</td>\n",
       "      <td>204</td>\n",
       "      <td>0</td>\n",
       "      <td>0</td>\n",
       "      <td>172</td>\n",
       "      <td>0</td>\n",
       "      <td>1.4</td>\n",
       "      <td>2</td>\n",
       "      <td>0</td>\n",
       "      <td>2</td>\n",
       "      <td>Normal</td>\n",
       "    </tr>\n",
       "    <tr>\n",
       "      <th>3</th>\n",
       "      <td>56</td>\n",
       "      <td>Male</td>\n",
       "      <td>1</td>\n",
       "      <td>120</td>\n",
       "      <td>236</td>\n",
       "      <td>0</td>\n",
       "      <td>1</td>\n",
       "      <td>178</td>\n",
       "      <td>0</td>\n",
       "      <td>0.8</td>\n",
       "      <td>2</td>\n",
       "      <td>0</td>\n",
       "      <td>2</td>\n",
       "      <td>Normal</td>\n",
       "    </tr>\n",
       "    <tr>\n",
       "      <th>4</th>\n",
       "      <td>57</td>\n",
       "      <td>Female</td>\n",
       "      <td>0</td>\n",
       "      <td>120</td>\n",
       "      <td>354</td>\n",
       "      <td>0</td>\n",
       "      <td>1</td>\n",
       "      <td>163</td>\n",
       "      <td>1</td>\n",
       "      <td>0.6</td>\n",
       "      <td>2</td>\n",
       "      <td>0</td>\n",
       "      <td>2</td>\n",
       "      <td>Normal</td>\n",
       "    </tr>\n",
       "    <tr>\n",
       "      <th>...</th>\n",
       "      <td>...</td>\n",
       "      <td>...</td>\n",
       "      <td>...</td>\n",
       "      <td>...</td>\n",
       "      <td>...</td>\n",
       "      <td>...</td>\n",
       "      <td>...</td>\n",
       "      <td>...</td>\n",
       "      <td>...</td>\n",
       "      <td>...</td>\n",
       "      <td>...</td>\n",
       "      <td>...</td>\n",
       "      <td>...</td>\n",
       "      <td>...</td>\n",
       "    </tr>\n",
       "    <tr>\n",
       "      <th>298</th>\n",
       "      <td>57</td>\n",
       "      <td>Female</td>\n",
       "      <td>0</td>\n",
       "      <td>140</td>\n",
       "      <td>241</td>\n",
       "      <td>0</td>\n",
       "      <td>1</td>\n",
       "      <td>123</td>\n",
       "      <td>1</td>\n",
       "      <td>0.2</td>\n",
       "      <td>1</td>\n",
       "      <td>0</td>\n",
       "      <td>3</td>\n",
       "      <td>Heart Disease</td>\n",
       "    </tr>\n",
       "    <tr>\n",
       "      <th>299</th>\n",
       "      <td>45</td>\n",
       "      <td>Male</td>\n",
       "      <td>3</td>\n",
       "      <td>110</td>\n",
       "      <td>264</td>\n",
       "      <td>0</td>\n",
       "      <td>1</td>\n",
       "      <td>132</td>\n",
       "      <td>0</td>\n",
       "      <td>1.2</td>\n",
       "      <td>1</td>\n",
       "      <td>0</td>\n",
       "      <td>3</td>\n",
       "      <td>Heart Disease</td>\n",
       "    </tr>\n",
       "    <tr>\n",
       "      <th>300</th>\n",
       "      <td>68</td>\n",
       "      <td>Male</td>\n",
       "      <td>0</td>\n",
       "      <td>144</td>\n",
       "      <td>193</td>\n",
       "      <td>1</td>\n",
       "      <td>1</td>\n",
       "      <td>141</td>\n",
       "      <td>0</td>\n",
       "      <td>3.4</td>\n",
       "      <td>1</td>\n",
       "      <td>2</td>\n",
       "      <td>3</td>\n",
       "      <td>Heart Disease</td>\n",
       "    </tr>\n",
       "    <tr>\n",
       "      <th>301</th>\n",
       "      <td>57</td>\n",
       "      <td>Male</td>\n",
       "      <td>0</td>\n",
       "      <td>130</td>\n",
       "      <td>131</td>\n",
       "      <td>0</td>\n",
       "      <td>1</td>\n",
       "      <td>115</td>\n",
       "      <td>1</td>\n",
       "      <td>1.2</td>\n",
       "      <td>1</td>\n",
       "      <td>1</td>\n",
       "      <td>3</td>\n",
       "      <td>Heart Disease</td>\n",
       "    </tr>\n",
       "    <tr>\n",
       "      <th>302</th>\n",
       "      <td>57</td>\n",
       "      <td>Female</td>\n",
       "      <td>1</td>\n",
       "      <td>130</td>\n",
       "      <td>236</td>\n",
       "      <td>0</td>\n",
       "      <td>0</td>\n",
       "      <td>174</td>\n",
       "      <td>0</td>\n",
       "      <td>0.0</td>\n",
       "      <td>1</td>\n",
       "      <td>1</td>\n",
       "      <td>2</td>\n",
       "      <td>Heart Disease</td>\n",
       "    </tr>\n",
       "  </tbody>\n",
       "</table>\n",
       "<p>303 rows × 14 columns</p>\n",
       "</div>"
      ],
      "text/plain": [
       "     age     sex  cp  trestbps  chol  fbs  restecg  thalach  exang  oldpeak  \\\n",
       "0     63    Male   3       145   233    1        0      150      0      2.3   \n",
       "1     37    Male   2       130   250    0        1      187      0      3.5   \n",
       "2     41  Female   1       130   204    0        0      172      0      1.4   \n",
       "3     56    Male   1       120   236    0        1      178      0      0.8   \n",
       "4     57  Female   0       120   354    0        1      163      1      0.6   \n",
       "..   ...     ...  ..       ...   ...  ...      ...      ...    ...      ...   \n",
       "298   57  Female   0       140   241    0        1      123      1      0.2   \n",
       "299   45    Male   3       110   264    0        1      132      0      1.2   \n",
       "300   68    Male   0       144   193    1        1      141      0      3.4   \n",
       "301   57    Male   0       130   131    0        1      115      1      1.2   \n",
       "302   57  Female   1       130   236    0        0      174      0      0.0   \n",
       "\n",
       "     slope  ca  thal         target  \n",
       "0        0   0     1         Normal  \n",
       "1        0   0     2         Normal  \n",
       "2        2   0     2         Normal  \n",
       "3        2   0     2         Normal  \n",
       "4        2   0     2         Normal  \n",
       "..     ...  ..   ...            ...  \n",
       "298      1   0     3  Heart Disease  \n",
       "299      1   0     3  Heart Disease  \n",
       "300      1   2     3  Heart Disease  \n",
       "301      1   1     3  Heart Disease  \n",
       "302      1   1     2  Heart Disease  \n",
       "\n",
       "[303 rows x 14 columns]"
      ]
     },
     "execution_count": 21,
     "metadata": {},
     "output_type": "execute_result"
    }
   ],
   "source": [
    "df"
   ]
  },
  {
   "cell_type": "markdown",
   "id": "f940a09f",
   "metadata": {},
   "source": [
    "Does the resting blood pressure (trestbps) differ between those with the disease and those without?\n",
    "1. Calculate the means and standard deviations. How do they compare between groups and by how much? If someone asked you whether they vary, what would you say? Discuss in your groups."
   ]
  },
  {
   "cell_type": "code",
   "execution_count": 22,
   "id": "77fcd6ad",
   "metadata": {},
   "outputs": [],
   "source": [
    "df_normal= df[df['target']== \"Normal\"]\n",
    "df_heart= df[df['target']== \"Heart Disease\"]"
   ]
  },
  {
   "cell_type": "code",
   "execution_count": 23,
   "id": "a5569e87",
   "metadata": {},
   "outputs": [
    {
     "name": "stdout",
     "output_type": "stream",
     "text": [
      "The mean resting blood pressure (trestbps) for normal: 129.3030303030303\n",
      "The Standard daviation for resting blood pressure (trestbps) for normal: 16.16961326687487\n"
     ]
    }
   ],
   "source": [
    "print(\"The mean resting blood pressure (trestbps) for normal: \"+ str(df_normal['trestbps'].mean())+ \"\\nThe Standard daviation for resting blood pressure (trestbps) for normal: \"+str(df_normal['trestbps'].std() ))"
   ]
  },
  {
   "cell_type": "code",
   "execution_count": 24,
   "id": "296760f3",
   "metadata": {},
   "outputs": [
    {
     "name": "stdout",
     "output_type": "stream",
     "text": [
      "The mean resting blood pressure (trestbps) for Heart Patients: 134.3985507246377\n",
      "The Standard daviation for resting blood pressure (trestbps) for Heart Patients: 18.72994396158135\n"
     ]
    }
   ],
   "source": [
    "print(\"The mean resting blood pressure (trestbps) for Heart Patients: \"+ str(df_heart['trestbps'].mean())+ \"\\nThe Standard daviation for resting blood pressure (trestbps) for Heart Patients: \"+str(df_heart['trestbps'].std() ))"
   ]
  },
  {
   "cell_type": "markdown",
   "id": "2fb5c69a",
   "metadata": {},
   "source": [
    "2. Create boxplots and histograms to compare the means and distributions. Make sure you use the same scales on the axes. Tip: If using matplotlib, you might want to use subplots(ncols=2,sharey=True) to create two plots side-by-side with a shared y axis. Same question as above, do these value vary and by how much?"
   ]
  },
  {
   "cell_type": "code",
   "execution_count": 25,
   "id": "4207a774",
   "metadata": {},
   "outputs": [
    {
     "name": "stderr",
     "output_type": "stream",
     "text": [
      "<ipython-input-25-46b79d5ed5cd>:6: UserWarning: Matplotlib is currently using module://ipykernel.pylab.backend_inline, which is a non-GUI backend, so cannot show the figure.\n",
      "  f.show()\n"
     ]
    },
    {
     "data": {
      "image/png": "[encoded data removed]",
      "text/plain": [
       "<Figure size 432x288 with 2 Axes>"
      ]
     },
     "metadata": {
      "needs_background": "light"
     },
     "output_type": "display_data"
    }
   ],
   "source": [
    "f, (ax1, ax2) = plt.subplots(ncols=2, sharey=True)\n",
    "ax1.hist(df_normal['trestbps'])\n",
    "ax1.set_title('For Normal Persons')\n",
    "ax2.set_title('For Heart Disease Persons')\n",
    "ax2.hist(df_heart['trestbps'])\n",
    "f.show()"
   ]
  },
  {
   "cell_type": "code",
   "execution_count": 26,
   "id": "118a9eef",
   "metadata": {},
   "outputs": [
    {
     "name": "stderr",
     "output_type": "stream",
     "text": [
      "<ipython-input-26-f39d8c263234>:6: UserWarning: Matplotlib is currently using module://ipykernel.pylab.backend_inline, which is a non-GUI backend, so cannot show the figure.\n",
      "  f.show()\n"
     ]
    },
    {
     "data": {
      "image/png": "[encoded data removed]",
      "text/plain": [
       "<Figure size 432x288 with 2 Axes>"
      ]
     },
     "metadata": {
      "needs_background": "light"
     },
     "output_type": "display_data"
    }
   ],
   "source": [
    "f, (ax1, ax2) = plt.subplots(ncols=2, sharey=True)\n",
    "ax1.boxplot(df_normal['trestbps'])\n",
    "ax1.set_title('For Normal Persons')\n",
    "ax2.set_title('For Heart Disease Persons')\n",
    "ax2.boxplot(df_heart['trestbps'])\n",
    "f.show()"
   ]
  },
  {
   "cell_type": "markdown",
   "id": "970475ed",
   "metadata": {},
   "source": [
    "3. Compare the means using scipy.stat's ttest_ind() function. What is the p-value telling you? Does this relate to the judgements you made above?"
   ]
  },
  {
   "cell_type": "code",
   "execution_count": 27,
   "id": "f616d320",
   "metadata": {},
   "outputs": [
    {
     "data": {
      "text/plain": [
       "Ttest_indResult(statistic=-2.5412927171039, pvalue=0.011546059200233312)"
      ]
     },
     "execution_count": 27,
     "metadata": {},
     "output_type": "execute_result"
    }
   ],
   "source": [
    "(scipy.stats.ttest_ind(df_normal['trestbps'], df_heart['trestbps']))"
   ]
  },
  {
   "cell_type": "markdown",
   "id": "56a12288",
   "metadata": {},
   "source": [
    "4. Calculate Cohen's d. (Search for \"cohen's d\" on this page which gives the formula and also the formula for the pooled standard deviation which you also need. Note that it doesn't give the Python code directly - you may need to use math.sqrt() and pow()).Interpret this value and consider how it relates to your other interpretations (above)."
   ]
  },
  {
   "cell_type": "code",
   "execution_count": 29,
   "id": "f821745f",
   "metadata": {},
   "outputs": [],
   "source": [
    "from numpy import var\n",
    "import numpy as np\n",
    "\n",
    "n1, n2 = len(df_normal), len(df_heart)\n",
    "s1, s2 = var(df_normal['trestbps'], ddof=1), var(df_heart['trestbps'], ddof=1)"
   ]
  },
  {
   "cell_type": "code",
   "execution_count": 30,
   "id": "6d401f18",
   "metadata": {},
   "outputs": [],
   "source": [
    "s = np.sqrt(((n1 - 1) * s1 + (n2 - 1) * s2) / (n1 + n2 - 2))\n",
    "u1, u2 = df_normal['trestbps'].mean(), df_heart['trestbps'].mean()\n",
    "c= (u1 - u2) / s"
   ]
  },
  {
   "cell_type": "code",
   "execution_count": 31,
   "id": "cbacf5ae",
   "metadata": {},
   "outputs": [
    {
     "name": "stdout",
     "output_type": "stream",
     "text": [
      "Cohens d: -0.293\n"
     ]
    }
   ],
   "source": [
    "print('Cohens d: %.3f' % c)"
   ]
  },
  {
   "cell_type": "markdown",
   "id": "2c144c7d",
   "metadata": {},
   "source": [
    "5. Try some other (quantitative) variables and compare between heart disease groups. You could also compare by gender but there's probably no good reason to."
   ]
  },
  {
   "cell_type": "code",
   "execution_count": 32,
   "id": "037076c1",
   "metadata": {},
   "outputs": [
    {
     "name": "stdout",
     "output_type": "stream",
     "text": [
      "Cohens d: 1.114\n"
     ]
    }
   ],
   "source": [
    "n1, n2 = len(df_normal), len(df_heart)\n",
    "s1, s2 = var(df_normal['trestbps'], ddof=1), var(df_heart['trestbps'], ddof=1)\n",
    "s = np.sqrt(((n1 - 1) * s1 + (n2 - 1) * s2) / (n1 + n2 - 2))\n",
    "u1, u2 = df_normal['thalach'].mean(), df_heart['thalach'].mean()\n",
    "c= (u1 - u2) / s\n",
    "print('Cohens d: %.3f' % c)"
   ]
  },
  {
   "cell_type": "markdown",
   "id": "82cce758",
   "metadata": {},
   "source": [
    "Look at the numbers in the table. Does there appear to be a difference?"
   ]
  },
  {
   "cell_type": "code",
   "execution_count": 33,
   "id": "05a142c9",
   "metadata": {},
   "outputs": [
    {
     "name": "stdout",
     "output_type": "stream",
     "text": [
      "        heartDiseaseCount  totalCount  propHeartDisease\n",
      "sex                                                    \n",
      "Female                 24          96          0.250000\n",
      "Male                  114         207          0.550725\n"
     ]
    }
   ],
   "source": [
    "#Count the number with the disease for each gender type\n",
    "hasDiseaseCount=df[df.target=='Heart Disease'].groupby(\"sex\").count().target\n",
    "#Count the number of gender type\n",
    "totalCount=df.groupby(\"sex\").count()['target']\n",
    "#combine into a dataframe (both are indexed with gender, so will be matched) and specify the columns\n",
    "p=pd.concat([hasDiseaseCount, totalCount], axis=1)\n",
    "p.columns = [\"heartDiseaseCount\", \"totalCount\"]\n",
    "#create a new column and calculate the proportion\n",
    "p['propHeartDisease']=p[\"heartDiseaseCount\"]/p[\"totalCount\"]\n",
    "#print the results\n",
    "print(p.head())"
   ]
  },
  {
   "cell_type": "markdown",
   "id": "3e908b3e",
   "metadata": {},
   "source": [
    "2. We will use Null Hypothesis Statistical Testing (NHST) to help determine whetherthis difference is likely to be present in the population. Follow through this guide that explains how with the second method entitled Hypothesis Tests for the Difference in Two Proportions. This explains how to set up a Null Hypothesis test. The table in step 3 is what we calculate above (should be the same).Things to note: (a) The data are the same, but the columns have different names. (b) Also, although the methodology is correct, the statistical value, p-value and therefore the interpretation appear to be incorrect. See what you make as"
   ]
  },
  {
   "cell_type": "code",
   "execution_count": 34,
   "id": "32e51584",
   "metadata": {},
   "outputs": [],
   "source": [
    "p_fe = p.propHeartDisease.Female\n",
    "p_male = p.propHeartDisease.Male"
   ]
  },
  {
   "cell_type": "code",
   "execution_count": 35,
   "id": "fd0ac2fc",
   "metadata": {},
   "outputs": [],
   "source": [
    "p_us = len(df[df['target']=='Heart Disease'])/len(df)"
   ]
  },
  {
   "cell_type": "code",
   "execution_count": 36,
   "id": "8d378481",
   "metadata": {},
   "outputs": [],
   "source": [
    "p_us  #calculated in the beginning of the previous example\n",
    "n1 = p.totalCount.Female\n",
    "n2 = p.totalCount.Male\n",
    "se = np.sqrt(p_us*(1-p_us)*(1/n1 + 1/n2))"
   ]
  },
  {
   "cell_type": "code",
   "execution_count": 37,
   "id": "941ac477",
   "metadata": {},
   "outputs": [],
   "source": [
    "#calculate the best estimate\n",
    "be = p_fe - p_male  #Calculate the hypothesized estimate\n",
    "#Our null hypothesis is p1 - p2 = 0\n",
    "he = 0  #Calculate the test statistic\n",
    "test_statistic = (be - he)/se"
   ]
  },
  {
   "cell_type": "code",
   "execution_count": 38,
   "id": "97609c97",
   "metadata": {},
   "outputs": [
    {
     "data": {
      "text/plain": [
       "1.0071642033238867e-06"
      ]
     },
     "execution_count": 38,
     "metadata": {},
     "output_type": "execute_result"
    }
   ],
   "source": [
    "pvalue = 2*scipy.stats.norm.cdf(-np.abs(test_statistic))\n",
    "pvalue"
   ]
  },
  {
   "cell_type": "markdown",
   "id": "b44511cf",
   "metadata": {},
   "source": [
    "3. What is your answer to the question: Is the proportion of men and women who get heart disease the same? Reflect on the NHST approach for doing this\n",
    "So according to the NHST approach.. The proportion of men and women who get the heart disease is not same."
   ]
  },
  {
   "cell_type": "code",
   "execution_count": null,
   "id": "d1f1a437",
   "metadata": {},
   "outputs": [],
   "source": []
  }
 ],
 "metadata": {
  "kernelspec": {
   "display_name": "Python 3",
   "language": "python",
   "name": "python3"
  },
  "language_info": {
   "codemirror_mode": {
    "name": "ipython",
    "version": 3
   },
   "file_extension": ".py",
   "mimetype": "text/x-python",
   "name": "python",
   "nbconvert_exporter": "python",
   "pygments_lexer": "ipython3",
   "version": "3.8.8"
  }
 },
 "nbformat": 4,
 "nbformat_minor": 5
}
